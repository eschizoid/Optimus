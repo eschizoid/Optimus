{
 "cells": [
  {
   "cell_type": "code",
   "execution_count": 2,
   "metadata": {
    "pycharm": {
     "is_executing": false
    }
   },
   "outputs": [],
   "source": [
    "# If you modify Optimus or any library this code is going to reload it\n",
    "%load_ext autoreload\n",
    "%autoreload "
   ]
  },
  {
   "cell_type": "code",
   "execution_count": 3,
   "metadata": {
    "pycharm": {
     "is_executing": false
    }
   },
   "outputs": [],
   "source": [
    "# If you are in the example folder. This is the way to find optimus\n",
    "import sys"
   ]
  },
  {
   "cell_type": "code",
   "execution_count": 4,
   "metadata": {
    "pycharm": {
     "is_executing": false
    }
   },
   "outputs": [],
   "source": [
    "sys.path.append(\"../..\")"
   ]
  },
  {
   "cell_type": "code",
   "execution_count": 5,
   "metadata": {
    "pycharm": {
     "is_executing": false
    }
   },
   "outputs": [],
   "source": [
    "import os\n",
    "os.environ[\"SPARK_HOME\"] = \"/opt/spark/\""
   ]
  },
  {
   "cell_type": "code",
   "execution_count": 6,
   "metadata": {
    "pycharm": {
     "is_executing": false
    }
   },
   "outputs": [],
   "source": [
    "from optimus import Optimus\n",
    "op = Optimus(verbose=True)"
   ]
  },
  {
   "cell_type": "code",
   "execution_count": 7,
   "metadata": {
    "pycharm": {
     "is_executing": false
    }
   },
   "outputs": [],
   "source": [
    "import records"
   ]
  },
  {
   "cell_type": "markdown",
   "metadata": {},
   "source": [
    "## Oracle"
   ]
  },
  {
   "cell_type": "code",
   "execution_count": 64,
   "metadata": {
    "pycharm": {
     "is_executing": false
    }
   },
   "outputs": [
    {
     "data": {
      "text/plain": "<RecordCollection size=0 pending=True>"
     },
     "metadata": {},
     "output_type": "execute_result",
     "execution_count": 64
    }
   ],
   "source": [
    "host = \"127.0.0.1\"\n",
    "port= 1521\n",
    "driver = \"oracle+cx_oracle\"\n",
    "user = \"system\"\n",
    "password = \"sA123456\"\n",
    "db_name = \"ORCLCDB\"\n",
    "\n",
    "db = records.Database('{DRIVER}://{USER}:{PASSWORD}@{HOST}:{PORT}/{DB}'.format(DRIVER=driver, USER=user, PASSWORD=password, HOST=host, PORT=port, DB=db_name))\n",
    "\n",
    "db.query_file('oracle_main.sql')"
   ]
  },
  {
   "cell_type": "markdown",
   "metadata": {},
   "source": [
    "## Mysql"
   ]
  },
  {
   "cell_type": "code",
   "execution_count": 9,
   "metadata": {
    "pycharm": {
     "is_executing": false
    }
   },
   "outputs": [],
   "source": [
    "host = \"127.0.0.1\"\n",
    "port= 3306\n",
    "driver = \"mysql\"\n",
    "user = \"SA\"\n",
    "password = \"SA123\"\n",
    "db_name = \"optimus\"\n",
    "\n",
    "db = records.Database('{DRIVER}://{USER}:{PASSWORD}@{HOST}:{PORT}/{DB}'.format(DRIVER=driver, USER=user, PASSWORD=password, HOST=host, PORT=port,DB=db_name))\n",
    "\n",
    "db.query_file('main.sql')\n",
    "db.query_file('secondary.sql')"
   ]
  },
  {
   "cell_type": "code",
   "execution_count": 10,
   "metadata": {
    "pycharm": {
     "is_executing": false
    }
   },
   "outputs": [],
   "source": [
    "# Put your db credentials here\n",
    "db_mysql = op.connect(\n",
    "    driver=\"mysql\",\n",
    "    host=host,\n",
    "    database= db_name,\n",
    "    user= user,\n",
    "    password = password,\n",
    "    port=port)"
   ]
  },
  {
   "cell_type": "code",
   "execution_count": null,
   "metadata": {
    "pycharm": {
     "is_executing": true
    }
   },
   "outputs": [],
   "source": [
    "# Get all tables"
   ]
  },
  {
   "cell_type": "code",
   "execution_count": 11,
   "metadata": {
    "pycharm": {
     "is_executing": false
    }
   },
   "outputs": [],
   "source": [
    "\n",
    "df = db_mysql.table_to_df('optimus.main', limit='all')"
   ]
  },
  {
   "cell_type": "markdown",
   "metadata": {},
   "source": [
    "## Postgres"
   ]
  },
  {
   "cell_type": "code",
   "execution_count": 13,
   "metadata": {
    "pycharm": {
     "is_executing": false
    }
   },
   "outputs": [],
   "source": [
    "host = \"127.0.0.1\"\n",
    "port= 5432\n",
    "driver = \"postgresql\"\n",
    "user = \"SA\"\n",
    "password = \"SA123\"\n",
    "db_name = \"optimus\"\n",
    "\n",
    "db = records.Database('{DRIVER}://{USER}:{PASSWORD}@{HOST}:{PORT}/{DB}'.format(DRIVER=driver, USER=user, PASSWORD=password, HOST=host, PORT=port,DB=db_name))\n",
    "\n",
    "db.query_file('main.sql')\n",
    "db.query_file('secondary.sql')\n",
    "\n",
    "db_postgres = op.connect(\n",
    "    driver=\"postgresql\",\n",
    "    host=host,\n",
    "    database= db_name,\n",
    "    user= user,\n",
    "    password = password,\n",
    "    port=port)\n",
    "\n",
    "df = db_postgres.table_to_df('main', limit='all')"
   ]
  },
  {
   "cell_type": "code",
   "execution_count": 13,
   "metadata": {
    "pycharm": {
     "is_executing": false
    }
   },
   "outputs": [],
   "source": [
    "# Put your db credentials here\n",
    "db =  op.connect(\n",
    "    driver=\"postgresql\",\n",
    "    host=host,\n",
    "    database= db_name,\n",
    "    user= user,\n",
    "    password = password,\n",
    "    port=port)"
   ]
  },
  {
   "cell_type": "code",
   "execution_count": 15,
   "metadata": {
    "pycharm": {
     "is_executing": false
    }
   },
   "outputs": [],
   "source": [
    "db.url"
   ]
  },
  {
   "cell_type": "code",
   "execution_count": 16,
   "metadata": {
    "pycharm": {
     "is_executing": false
    }
   },
   "outputs": [],
   "source": [
    "a = db.table.show('main')"
   ]
  },
  {
   "cell_type": "markdown",
   "metadata": {},
   "source": [
    "## Redshift"
   ]
  },
  {
   "cell_type": "code",
   "execution_count": null,
   "metadata": {
    "pycharm": {
     "is_executing": true
    }
   },
   "outputs": [],
   "source": [
    "!pip install redshift-sqlalchemy"
   ]
  },
  {
   "cell_type": "code",
   "execution_count": null,
   "metadata": {
    "pycharm": {
     "is_executing": true
    }
   },
   "outputs": [],
   "source": [
    "port= 5439\n",
    "driver = \"postgresql\"\n",
    "user = \"SA\"\n",
    "password = \"SA123\"\n",
    "db = \"optimus\"\n",
    "\n",
    "connection ='{DRIVER}://{USER}:{PASSWORD}@{HOST}:{PORT}/{DB}'.format(DRIVER=driver, USER=user, PASSWORD=password, HOST=\"127.0.0.1\", PORT=port,DB=db)\n",
    "print(connection)\n",
    "db = records.Database(connection)\n",
    "\n",
    "db.query_file('main.sql')\n",
    "db.query_file('secondary.sql')"
   ]
  },
  {
   "cell_type": "code",
   "execution_count": null,
   "metadata": {
    "pycharm": {
     "is_executing": true
    }
   },
   "outputs": [],
   "source": [
    "# Put your db credentials here\n",
    "db = op.connect(\n",
    "    driver=\"redshift\",\n",
    "    host=\"yopter.ccyy9l6xansm.us-east-1.redshift.amazonaws.com\",\n",
    "    database= \"yopterdwh\",\n",
    "    user= \"yopterrs\",\n",
    "    password = \"wDY9nkAET8Af\",\n",
    "    port=\"5439\")"
   ]
  },
  {
   "cell_type": "code",
   "execution_count": null,
   "metadata": {
    "pycharm": {
     "is_executing": true
    }
   },
   "outputs": [],
   "source": [
    "a = db.tables()"
   ]
  },
  {
   "cell_type": "code",
   "execution_count": null,
   "metadata": {
    "pycharm": {
     "is_executing": true
    }
   },
   "outputs": [],
   "source": [
    "a.show()"
   ]
  },
  {
   "cell_type": "markdown",
   "metadata": {},
   "source": [
    "## Mysql server"
   ]
  },
  {
   "cell_type": "code",
   "execution_count": 9,
   "metadata": {
    "pycharm": {
     "is_executing": false
    }
   },
   "outputs": [],
   "source": [
    "port = 1433\n",
    "host = \"mssql\"\n",
    "driver = \"mssql+pymssql\"\n",
    "user = \"sa\"\n",
    "password = \"sA123456\"\n",
    "db = \"optimus\"\n",
    "\n",
    "# port 1433\n",
    "\n",
    "connection = '{DRIVER}://{USER}:{PASSWORD}@{HOST}:{PORT}'.format(DRIVER=driver, USER=user, PASSWORD=password, HOST=host, PORT=port)\n",
    "db = records.Database(connection)\n",
    "# rows = db.query('select * from active_users')    # or \n",
    "db.query_file('mssql_main.sql')\n",
    "db.query_file('secondary.sql')"
   ]
  },
  {
   "cell_type": "markdown",
   "source": [
    "## Cassandra"
   ],
   "metadata": {
    "collapsed": false
   }
  },
  {
   "cell_type": "code",
   "execution_count": 17,
   "outputs": [],
   "source": [
    "db = op.connect(\n",
    "    driver=\"cassandra\",\n",
    "    host=\"127.0.0.1\",\n",
    "    database=\"cassandra\",\n",
    "    user=\"cassandra\",\n",
    "    password=\"cassandra\",\n",
    "    cassandra_keyspace=\"optimus\",\n",
    "    cassandra_table=\"main\",\n",
    "    port=\"9042\"\n",
    ")"
   ],
   "metadata": {
    "collapsed": false,
    "pycharm": {
     "name": "#%%\n",
     "is_executing": false
    }
   }
  },
  {
   "cell_type": "code",
   "execution_count": 18,
   "outputs": [],
   "source": [
    "db.table.show(\"optimus.main\", \"10\")"
   ],
   "metadata": {
    "collapsed": false,
    "pycharm": {
     "name": "#%%\n",
     "is_executing": false
    }
   }
  }
 ],
 "metadata": {
  "kernelspec": {
   "name": "python3",
   "language": "python",
   "display_name": "Python 3"
  },
  "language_info": {
   "codemirror_mode": {
    "name": "ipython",
    "version": 3
   },
   "file_extension": ".py",
   "mimetype": "text/x-python",
   "name": "python",
   "nbconvert_exporter": "python",
   "pygments_lexer": "ipython3",
   "version": "3.6.9"
  },
  "pycharm": {
   "stem_cell": {
    "cell_type": "raw",
    "source": [],
    "metadata": {
     "collapsed": false
    }
   }
  }
 },
 "nbformat": 4,
 "nbformat_minor": 2
}