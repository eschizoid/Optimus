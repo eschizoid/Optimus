{
 "cells": [
  {
   "cell_type": "code",
   "execution_count": 1,
   "metadata": {
    "pycharm": {
     "is_executing": false
    }
   },
   "outputs": [],
   "source": [
    "# If you modify Optimus or any library this code is going to reload it\n",
    "%load_ext autoreload\n",
    "%autoreload "
   ]
  },
  {
   "cell_type": "code",
   "execution_count": 2,
   "metadata": {
    "pycharm": {
     "is_executing": false
    }
   },
   "outputs": [],
   "source": [
    "# If you are in the example folder. This is the way to find optimus\n",
    "import sys"
   ]
  },
  {
   "cell_type": "code",
   "execution_count": 3,
   "metadata": {
    "pycharm": {
     "is_executing": false
    }
   },
   "outputs": [],
   "source": [
    "sys.path.append(\"../..\")"
   ]
  },
  {
   "cell_type": "code",
   "execution_count": 4,
   "metadata": {
    "pycharm": {
     "is_executing": false
    }
   },
   "outputs": [],
   "source": [
    "import os\n",
    "os.environ[\"SPARK_HOME\"] = \"/opt/spark/\""
   ]
  },
  {
   "cell_type": "code",
   "execution_count": 5,
   "metadata": {
    "pycharm": {
     "is_executing": false
    }
   },
   "outputs": [
    {
     "name": "stderr",
     "text": [
      "Using or importing the ABCs from 'collections' instead of from 'collections.abc' is deprecated, and in 3.8 it will stop working\n",
      "INFO:optimus:Operative System:Darwin\n",
      "INFO:optimus:Just check that Spark and all necessary environments vars are present...\n",
      "INFO:optimus:-----\n",
      "INFO:optimus:SPARK_HOME=/opt/spark/\n",
      "INFO:optimus:HADOOP_HOME is not set\n",
      "INFO:optimus:PYSPARK_PYTHON=/Users/admin/development/Optimus/tests/sql/env/bin/python\n",
      "INFO:optimus:PYSPARK_DRIVER_PYTHON is not set\n",
      "INFO:optimus:PYSPARK_SUBMIT_ARGS=--jars \"file:///Users/admin/development/Optimus/optimus/jars/RedshiftJDBC42-1.2.16.1027.jar,file:///Users/admin/development/Optimus/optimus/jars/mysql-connector-java-8.0.16.jar,file:///Users/admin/development/Optimus/optimus/jars/ojdbc8.jar,file:///Users/admin/development/Optimus/optimus/jars/postgresql-42.2.5.jar,file:///Users/admin/development/Optimus/optimus/jars/presto-jdbc-0.224.jar,file:///Users/admin/development/Optimus/optimus/jars/spark-cassandra-connector_2.11-2.4.1.jar\" --driver-class-path \"/Users/admin/development/Optimus/optimus/jars/RedshiftJDBC42-1.2.16.1027.jar:/Users/admin/development/Optimus/optimus/jars/mysql-connector-java-8.0.16.jar:/Users/admin/development/Optimus/optimus/jars/ojdbc8.jar:/Users/admin/development/Optimus/optimus/jars/postgresql-42.2.5.jar:/Users/admin/development/Optimus/optimus/jars/presto-jdbc-0.224.jar:/Users/admin/development/Optimus/optimus/jars/spark-cassandra-connector_2.11-2.4.1.jar\" --conf \"spark.sql.catalogImplementation=hive\" pyspark-shell\n",
      "INFO:optimus:JAVA_HOME is not set\n",
      "INFO:optimus:Pyarrow Installed\n",
      "INFO:optimus:-----\n",
      "INFO:optimus:Starting or getting SparkSession and SparkContext...\n",
      "INFO:optimus:Spark Version:2.4.3\n",
      "INFO:optimus:\n                             ____        __  _                     \n                            / __ \\____  / /_(_)___ ___  __  _______\n                           / / / / __ \\/ __/ / __ `__ \\/ / / / ___/\n                          / /_/ / /_/ / /_/ / / / / / / /_/ (__  ) \n                          \\____/ .___/\\__/_/_/ /_/ /_/\\__,_/____/  \n                              /_/                                  \n                              \n",
      "INFO:optimus:Transform and Roll out...\n",
      "INFO:optimus:Optimus successfully imported. Have fun :).\n",
      "INFO:optimus:Config.ini not found\n"
     ],
     "output_type": "stream"
    }
   ],
   "source": [
    "from optimus import Optimus\n",
    "op = Optimus(verbose=True)"
   ]
  },
  {
   "cell_type": "code",
   "execution_count": 6,
   "metadata": {
    "pycharm": {
     "is_executing": false
    }
   },
   "outputs": [],
   "source": [
    "import records"
   ]
  },
  {
   "cell_type": "markdown",
   "metadata": {},
   "source": [
    "## Oracle"
   ]
  },
  {
   "cell_type": "code",
   "execution_count": 7,
   "metadata": {
    "pycharm": {
     "is_executing": false
    }
   },
   "outputs": [],
   "source": []
  },
  {
   "cell_type": "markdown",
   "metadata": {},
   "source": [
    "## Mysql"
   ]
  },
  {
   "cell_type": "code",
   "execution_count": null,
   "metadata": {
    "pycharm": {
     "is_executing": false
    }
   },
   "outputs": [],
   "source": [
    "host = \"127.0.0.1\"\n",
    "port= 3306\n",
    "driver = \"mysql\"\n",
    "user = \"SA\"\n",
    "password = \"SA123\"\n",
    "db_name = \"optimus\"\n",
    "\n",
    "db = records.Database('{DRIVER}://{USER}:{PASSWORD}@{HOST}:{PORT}/{DB}'.format(DRIVER=driver, USER=user, PASSWORD=password, HOST=host, PORT=port,DB=db_name))\n",
    "\n",
    "db.query_file('main.sql')\n",
    "db.query_file('secondary.sql')"
   ]
  },
  {
   "cell_type": "code",
   "execution_count": 8,
   "metadata": {
    "pycharm": {
     "is_executing": false
    }
   },
   "outputs": [],
   "source": [
    "# Put your db credentials here\n",
    "db_mysql = op.connect(\n",
    "    db_type=\"mysql\",\n",
    "    host=host,\n",
    "    database= db_name,\n",
    "    user= user,\n",
    "    password = password,\n",
    "    port=port)"
   ]
  },
  {
   "cell_type": "code",
   "execution_count": 9,
   "metadata": {
    "pycharm": {
     "is_executing": false
    }
   },
   "outputs": [],
   "source": [
    "# Get all tables"
   ]
  },
  {
   "cell_type": "code",
   "execution_count": null,
   "metadata": {
    "pycharm": {
     "is_executing": false
    }
   },
   "outputs": [],
   "source": [
    "a = db_mysql.tables()"
   ]
  },
  {
   "cell_type": "markdown",
   "metadata": {},
   "source": [
    "## Postgres"
   ]
  },
  {
   "cell_type": "code",
   "execution_count": null,
   "metadata": {
    "pycharm": {
     "is_executing": false
    }
   },
   "outputs": [],
   "source": [
    "host = \"127.0.0.1\"\n",
    "port= 5432\n",
    "driver = \"postgresql\"\n",
    "user = \"SA\"\n",
    "password = \"SA123\"\n",
    "db_name = \"optimus\"\n",
    "db = \"postgres\"\n",
    "\n",
    "db = records.Database('{DRIVER}://{USER}:{PASSWORD}@{HOST}:{PORT}/{DB}'.format(DRIVER=driver, USER=user, PASSWORD=password, HOST=host, PORT=port,DB=db_name))\n",
    "\n",
    "db.query_file('main.sql')\n",
    "db.query_file('secondary.sql')"
   ]
  },
  {
   "cell_type": "code",
   "execution_count": null,
   "metadata": {
    "pycharm": {
     "is_executing": false
    }
   },
   "outputs": [],
   "source": [
    "# Put your db credentials here\n",
    "db =  op.connect(\n",
    "    db_type=\"postgres\",\n",
    "    host=host,\n",
    "    database= db_name,\n",
    "    user= user,\n",
    "    password = password,\n",
    "    port=port)"
   ]
  },
  {
   "cell_type": "code",
   "execution_count": null,
   "metadata": {
    "pycharm": {
     "is_executing": false
    }
   },
   "outputs": [],
   "source": [
    "db.url"
   ]
  },
  {
   "cell_type": "code",
   "execution_count": 16,
   "metadata": {
    "pycharm": {
     "is_executing": false
    }
   },
   "outputs": [],
   "source": [
    "a = db.table.show('main')"
   ]
  },
  {
   "cell_type": "markdown",
   "metadata": {},
   "source": [
    "## Redshift"
   ]
  },
  {
   "cell_type": "code",
   "execution_count": null,
   "metadata": {
    "pycharm": {
     "is_executing": false
    }
   },
   "outputs": [],
   "source": [
    "!pip install redshift-sqlalchemy"
   ]
  },
  {
   "cell_type": "code",
   "execution_count": null,
   "metadata": {
    "pycharm": {
     "is_executing": false
    }
   },
   "outputs": [],
   "source": [
    "port= 5439\n",
    "driver = \"postgres\"\n",
    "user = \"SA\"\n",
    "password = \"SA123\"\n",
    "db = \"optimus\"\n",
    "\n",
    "connection ='{DRIVER}://{USER}:{PASSWORD}@{HOST}:{PORT}/{DB}'.format(DRIVER=driver, USER=user, PASSWORD=password, HOST=\"127.0.0.1\", PORT=port,DB=db)\n",
    "print(connection)\n",
    "db = records.Database(connection)\n",
    "\n",
    "db.query_file('main.sql')\n",
    "db.query_file('secondary.sql')"
   ]
  },
  {
   "cell_type": "code",
   "execution_count": null,
   "metadata": {
    "pycharm": {
     "is_executing": false
    }
   },
   "outputs": [],
   "source": [
    "# Put your db credentials here\n",
    "db = op.connect(\n",
    "    db_type=\"redshift\",\n",
    "    host=\"yopter.ccyy9l6xansm.us-east-1.redshift.amazonaws.com\",\n",
    "    database= \"yopterdwh\",\n",
    "    user= \"yopterrs\",\n",
    "    password = \"wDY9nkAET8Af\",\n",
    "    port=\"5439\")"
   ]
  },
  {
   "cell_type": "code",
   "execution_count": null,
   "metadata": {
    "pycharm": {
     "is_executing": false
    }
   },
   "outputs": [],
   "source": [
    "a = db.tables()"
   ]
  },
  {
   "cell_type": "code",
   "execution_count": null,
   "metadata": {
    "pycharm": {
     "is_executing": false
    }
   },
   "outputs": [],
   "source": [
    "a.show()"
   ]
  },
  {
   "cell_type": "markdown",
   "metadata": {},
   "source": [
    "## Mysql server"
   ]
  },
  {
   "cell_type": "code",
   "execution_count": null,
   "metadata": {
    "pycharm": {
     "is_executing": false
    }
   },
   "outputs": [],
   "source": [
    "port = 1433\n",
    "driver = \"mssql+pyodbc\"\n",
    "user = \"SA\"\n",
    "password = \"SA123\"\n",
    "db = \"optimus\"\n",
    "\n",
    "# port 1433\n",
    "\n",
    "connection = '{DRIVER}://{USER}:{PASSWORD}@{HOST}:{PORT}/{DB}'.format(DRIVER=driver, USER=user, PASSWORD=password, HOST=host, PORT=port,DB=db)\n",
    "print(connection)\n",
    "db = records.Database(connection)\n",
    "# rows = db.query('select * from active_users')    # or \n",
    "db.query_file('main.sql')\n",
    "db.query_file('secondary.sql')"
   ]
  },
  {
   "cell_type": "markdown",
   "source": [
    "## Cassandra"
   ],
   "metadata": {
    "collapsed": false
   }
  },
  {
   "cell_type": "code",
   "execution_count": 7,
   "outputs": [
    {
     "name": "stderr",
     "text": [
      "INFO:optimus:\n"
     ],
     "output_type": "stream"
    }
   ],
   "source": [
    "db = op.connect(\n",
    "    db_type=\"cassandra\",\n",
    "    host=\"127.0.0.1\",\n",
    "    user=\"cassandra\",\n",
    "    database=\"cassandra\",\n",
    "    password=\"cassandra\",\n",
    "    cassandra_keyspace=\"optimus\",\n",
    "    port=\"9042\"\n",
    ")"
   ],
   "metadata": {
    "collapsed": false,
    "pycharm": {
     "name": "#%%\n",
     "is_executing": false
    }
   }
  },
  {
   "cell_type": "code",
   "execution_count": 11,
   "outputs": [
    {
     "name": "stdout",
     "text": [
      "Total Tables:1",
      "\n"
     ],
     "output_type": "stream"
    },
    {
     "name": "stderr",
     "text": [
      "INFO:optimus:SELECT * FROM optimus.main\n",
      "INFO:optimus:SELECT * FROM optimus.main\n",
      "INFO:optimus:\n"
     ],
     "output_type": "stream"
    },
    {
     "data": {
      "text/plain": "<IPython.core.display.HTML object>",
      "text/html": "\n<h1>optimus.main</h1>\n\n\n\n\n\n<div class=\"info_items\" style=\"margin: 10px 0; font-family: sans-serif; font-size: 10px;\">Viewing 10 of 10 rows / 8 columns</div>\n<div class=\"info_items\" style=\"margin: 10px 0; font-family: sans-serif; font-size: 10px;\">1 partition(s)</div>\n\n<table class=\"optimus_table\" style=\"font-size: 12px;\">\n    <thead style=\"border-bottom: 1px solid black;\">\n    <tr>\n        \n        <th style=\"font-family: sans-serif;\">\n            <div class=\"column_name\" style=\"font-size: 1.2em;\">id</div>\n            <div class=\"data_type\" style=\"font-size: 0.8em; font-weight: normal;\">1 (int)</div>\n            <div class=\"data_type\" style=\"font-size: 0.8em; font-weight: normal;\">\n                \n                nullable\n                \n            </div>\n        </th>\n        \n        <th style=\"font-family: sans-serif;\">\n            <div class=\"column_name\" style=\"font-size: 1.2em;\">booleans</div>\n            <div class=\"data_type\" style=\"font-size: 0.8em; font-weight: normal;\">2 (boolean)</div>\n            <div class=\"data_type\" style=\"font-size: 0.8em; font-weight: normal;\">\n                \n                nullable\n                \n            </div>\n        </th>\n        \n        <th style=\"font-family: sans-serif;\">\n            <div class=\"column_name\" style=\"font-size: 1.2em;\">color</div>\n            <div class=\"data_type\" style=\"font-size: 0.8em; font-weight: normal;\">3 (string)</div>\n            <div class=\"data_type\" style=\"font-size: 0.8em; font-weight: normal;\">\n                \n                nullable\n                \n            </div>\n        </th>\n        \n        <th style=\"font-family: sans-serif;\">\n            <div class=\"column_name\" style=\"font-size: 1.2em;\">email</div>\n            <div class=\"data_type\" style=\"font-size: 0.8em; font-weight: normal;\">4 (string)</div>\n            <div class=\"data_type\" style=\"font-size: 0.8em; font-weight: normal;\">\n                \n                nullable\n                \n            </div>\n        </th>\n        \n        <th style=\"font-family: sans-serif;\">\n            <div class=\"column_name\" style=\"font-size: 1.2em;\">gender</div>\n            <div class=\"data_type\" style=\"font-size: 0.8em; font-weight: normal;\">5 (string)</div>\n            <div class=\"data_type\" style=\"font-size: 0.8em; font-weight: normal;\">\n                \n                nullable\n                \n            </div>\n        </th>\n        \n        <th style=\"font-family: sans-serif;\">\n            <div class=\"column_name\" style=\"font-size: 1.2em;\">last_name</div>\n            <div class=\"data_type\" style=\"font-size: 0.8em; font-weight: normal;\">6 (string)</div>\n            <div class=\"data_type\" style=\"font-size: 0.8em; font-weight: normal;\">\n                \n                nullable\n                \n            </div>\n        </th>\n        \n        <th style=\"font-family: sans-serif;\">\n            <div class=\"column_name\" style=\"font-size: 1.2em;\">nulls</div>\n            <div class=\"data_type\" style=\"font-size: 0.8em; font-weight: normal;\">7 (string)</div>\n            <div class=\"data_type\" style=\"font-size: 0.8em; font-weight: normal;\">\n                \n                nullable\n                \n            </div>\n        </th>\n        \n        <th style=\"font-family: sans-serif;\">\n            <div class=\"column_name\" style=\"font-size: 1.2em;\">words</div>\n            <div class=\"data_type\" style=\"font-size: 0.8em; font-weight: normal;\">8 (string)</div>\n            <div class=\"data_type\" style=\"font-size: 0.8em; font-weight: normal;\">\n                \n                nullable\n                \n            </div>\n        </th>\n        \n    </tr>\n\n    </thead>\n    <tbody style=\"font-family: monospace; border-bottom: 1px solid #cccccc;\">\n    \n    <tr>\n        \n        <td style=\"border: 0px;\">\n            <div style=\" \" title=\"715\">715\n            </div>\n        </td>\n        \n        <td style=\"border: 0px;\">\n            <div style=\" \" title=\"False\">False\n            </div>\n        </td>\n        \n        <td style=\"border: 0px;\">\n            <div style=\" \" title=\"Blue\">Blue\n            </div>\n        </td>\n        \n        <td style=\"border: 0px;\">\n            <div style=\" \" title=\"afairbanksju@miibeian.gov.cn\">afairbanksju@miibeian.gov.cn\n            </div>\n        </td>\n        \n        <td style=\"border: 0px;\">\n            <div style=\" \" title=\"Female\">Female\n            </div>\n        </td>\n        \n        <td style=\"border: 0px;\">\n            <div style=\" \" title=\"Fairbanks\">Fairbanks\n            </div>\n        </td>\n        \n        <td style=\"border: 0px;\">\n            <div style=\"color:#0000FF \" title=\"None\">None\n            </div>\n        </td>\n        \n        <td style=\"border: 0px;\">\n            <div style=\" \" title=\"bibendum&#8901;imperdiet&#8901;nullam&#8901;orci&#8901;pede&#8901;venenatis&#8901;non&#8901;sodales&#8901;sed&#8901;tincidunt&#8901;eu&#8901;felis&#8901;fusce\">bibendum&#8901;imperdiet&#8901;nullam&#8901;orci&#8901;pede&#8901;venenatis&#8901;non&#8901;sodales&#8901;sed&#8901;tincidunt...\n            </div>\n        </td>\n        \n    </tr>\n    \n    <tr>\n        \n        <td style=\"border: 0px;\">\n            <div style=\" \" title=\"540\">540\n            </div>\n        </td>\n        \n        <td style=\"border: 0px;\">\n            <div style=\" \" title=\"False\">False\n            </div>\n        </td>\n        \n        <td style=\"border: 0px;\">\n            <div style=\" \" title=\"Turquoise\">Turquoise\n            </div>\n        </td>\n        \n        <td style=\"border: 0px;\">\n            <div style=\" \" title=\"celwillez@jiathis.com\">celwillez@jiathis.com\n            </div>\n        </td>\n        \n        <td style=\"border: 0px;\">\n            <div style=\" \" title=\"Male\">Male\n            </div>\n        </td>\n        \n        <td style=\"border: 0px;\">\n            <div style=\" \" title=\"Elwill\">Elwill\n            </div>\n        </td>\n        \n        <td style=\"border: 0px;\">\n            <div style=\"color:#0000FF \" title=\"None\">None\n            </div>\n        </td>\n        \n        <td style=\"border: 0px;\">\n            <div style=\" \" title=\"quis&#8901;augue&#8901;luctus&#8901;tincidunt&#8901;nulla&#8901;mollis&#8901;molestie&#8901;lorem&#8901;quisque&#8901;ut&#8901;erat&#8901;curabitur&#8901;gravida&#8901;nisi&#8901;at&#8901;nibh&#8901;in&#8901;hac\">quis&#8901;augue&#8901;luctus&#8901;tincidunt&#8901;nulla&#8901;mollis&#8901;molestie&#8901;lorem&#8901;quisque&#8901;ut&#890...\n            </div>\n        </td>\n        \n    </tr>\n    \n    <tr>\n        \n        <td style=\"border: 0px;\">\n            <div style=\" \" title=\"133\">133\n            </div>\n        </td>\n        \n        <td style=\"border: 0px;\">\n            <div style=\" color:#0000FF\" title=\"True\">True\n            </div>\n        </td>\n        \n        <td style=\"border: 0px;\">\n            <div style=\" \" title=\"Orange\">Orange\n            </div>\n        </td>\n        \n        <td style=\"border: 0px;\">\n            <div style=\" \" title=\"mchisholm3o@xing.com\">mchisholm3o@xing.com\n            </div>\n        </td>\n        \n        <td style=\"border: 0px;\">\n            <div style=\" \" title=\"Female\">Female\n            </div>\n        </td>\n        \n        <td style=\"border: 0px;\">\n            <div style=\" \" title=\"Chisholm\">Chisholm\n            </div>\n        </td>\n        \n        <td style=\"border: 0px;\">\n            <div style=\"color:#0000FF \" title=\"None\">None\n            </div>\n        </td>\n        \n        <td style=\"border: 0px;\">\n            <div style=\" \" title=\"semper&#8901;sapien&#8901;a&#8901;libero&#8901;nam&#8901;dui&#8901;proin&#8901;leo&#8901;odio&#8901;porttitor&#8901;id&#8901;consequat&#8901;in&#8901;consequat&#8901;ut&#8901;nulla&#8901;sed&#8901;accumsan\">semper&#8901;sapien&#8901;a&#8901;libero&#8901;nam&#8901;dui&#8901;proin&#8901;leo&#8901;odio&#8901;porttitor&#8901;id&#8901;...\n            </div>\n        </td>\n        \n    </tr>\n    \n    <tr>\n        \n        <td style=\"border: 0px;\">\n            <div style=\" \" title=\"450\">450\n            </div>\n        </td>\n        \n        <td style=\"border: 0px;\">\n            <div style=\" \" title=\"False\">False\n            </div>\n        </td>\n        \n        <td style=\"border: 0px;\">\n            <div style=\" \" title=\"Green\">Green\n            </div>\n        </td>\n        \n        <td style=\"border: 0px;\">\n            <div style=\" \" title=\"dbelhomech@nydailynews.com\">dbelhomech@nydailynews.com\n            </div>\n        </td>\n        \n        <td style=\"border: 0px;\">\n            <div style=\" \" title=\"Female\">Female\n            </div>\n        </td>\n        \n        <td style=\"border: 0px;\">\n            <div style=\" \" title=\"Belhome\">Belhome\n            </div>\n        </td>\n        \n        <td style=\"border: 0px;\">\n            <div style=\"color:#0000FF \" title=\"None\">None\n            </div>\n        </td>\n        \n        <td style=\"border: 0px;\">\n            <div style=\" \" title=\"id&#8901;ligula&#8901;suspendisse&#8901;ornare&#8901;consequat&#8901;lectus&#8901;in&#8901;est&#8901;risus&#8901;auctor\">id&#8901;ligula&#8901;suspendisse&#8901;ornare&#8901;consequat&#8901;lectus&#8901;in&#8901;est&#8901;risus&#8901;auctor\n            </div>\n        </td>\n        \n    </tr>\n    \n    <tr>\n        \n        <td style=\"border: 0px;\">\n            <div style=\" \" title=\"734\">734\n            </div>\n        </td>\n        \n        <td style=\"border: 0px;\">\n            <div style=\" \" title=\"False\">False\n            </div>\n        </td>\n        \n        <td style=\"border: 0px;\">\n            <div style=\" \" title=\"Mauv\">Mauv\n            </div>\n        </td>\n        \n        <td style=\"border: 0px;\">\n            <div style=\" \" title=\"rattewillkd@hhs.gov\">rattewillkd@hhs.gov\n            </div>\n        </td>\n        \n        <td style=\"border: 0px;\">\n            <div style=\" \" title=\"Male\">Male\n            </div>\n        </td>\n        \n        <td style=\"border: 0px;\">\n            <div style=\" \" title=\"Attewill\">Attewill\n            </div>\n        </td>\n        \n        <td style=\"border: 0px;\">\n            <div style=\"color:#0000FF \" title=\"None\">None\n            </div>\n        </td>\n        \n        <td style=\"border: 0px;\">\n            <div style=\" \" title=\"rutrum&#8901;nulla&#8901;tellus&#8901;in&#8901;sagittis&#8901;dui&#8901;vel&#8901;nisl&#8901;duis&#8901;ac&#8901;nibh&#8901;fusce&#8901;lacus&#8901;purus&#8901;aliquet&#8901;at&#8901;feugiat&#8901;non&#8901;pretium\">rutrum&#8901;nulla&#8901;tellus&#8901;in&#8901;sagittis&#8901;dui&#8901;vel&#8901;nisl&#8901;duis&#8901;ac&#8901;nibh&#8901;f...\n            </div>\n        </td>\n        \n    </tr>\n    \n    <tr>\n        \n        <td style=\"border: 0px;\">\n            <div style=\" \" title=\"811\">811\n            </div>\n        </td>\n        \n        <td style=\"border: 0px;\">\n            <div style=\" color:#0000FF\" title=\"True\">True\n            </div>\n        </td>\n        \n        <td style=\"border: 0px;\">\n            <div style=\" \" title=\"Mauv\">Mauv\n            </div>\n        </td>\n        \n        <td style=\"border: 0px;\">\n            <div style=\" \" title=\"dkenvinmi@theatlantic.com\">dkenvinmi@theatlantic.com\n            </div>\n        </td>\n        \n        <td style=\"border: 0px;\">\n            <div style=\" \" title=\"Male\">Male\n            </div>\n        </td>\n        \n        <td style=\"border: 0px;\">\n            <div style=\" \" title=\"Kenvin\">Kenvin\n            </div>\n        </td>\n        \n        <td style=\"border: 0px;\">\n            <div style=\"color:#0000FF \" title=\"None\">None\n            </div>\n        </td>\n        \n        <td style=\"border: 0px;\">\n            <div style=\" \" title=\"libero&#8901;ut&#8901;massa&#8901;volutpat&#8901;convallis&#8901;morbi&#8901;odio&#8901;odio&#8901;elementum&#8901;eu&#8901;interdum&#8901;eu&#8901;tincidunt&#8901;in&#8901;leo&#8901;maecenas&#8901;pulvinar\">libero&#8901;ut&#8901;massa&#8901;volutpat&#8901;convallis&#8901;morbi&#8901;odio&#8901;odio&#8901;elementum&#8901;eu&#8901;i...\n            </div>\n        </td>\n        \n    </tr>\n    \n    <tr>\n        \n        <td style=\"border: 0px;\">\n            <div style=\" \" title=\"933\">933\n            </div>\n        </td>\n        \n        <td style=\"border: 0px;\">\n            <div style=\" color:#0000FF\" title=\"True\">True\n            </div>\n        </td>\n        \n        <td style=\"border: 0px;\">\n            <div style=\" \" title=\"Aquamarine\">Aquamarine\n            </div>\n        </td>\n        \n        <td style=\"border: 0px;\">\n            <div style=\" \" title=\"tcoullpw@slashdot.org\">tcoullpw@slashdot.org\n            </div>\n        </td>\n        \n        <td style=\"border: 0px;\">\n            <div style=\" \" title=\"Male\">Male\n            </div>\n        </td>\n        \n        <td style=\"border: 0px;\">\n            <div style=\" \" title=\"Coull\">Coull\n            </div>\n        </td>\n        \n        <td style=\"border: 0px;\">\n            <div style=\"color:#0000FF \" title=\"None\">None\n            </div>\n        </td>\n        \n        <td style=\"border: 0px;\">\n            <div style=\" \" title=\"consequat&#8901;in&#8901;consequat&#8901;ut&#8901;nulla&#8901;sed&#8901;accumsan&#8901;felis&#8901;ut&#8901;at&#8901;dolor&#8901;quis&#8901;odio&#8901;consequat&#8901;varius&#8901;integer&#8901;ac&#8901;leo&#8901;pellentesque&#8901;ultrices\">consequat&#8901;in&#8901;consequat&#8901;ut&#8901;nulla&#8901;sed&#8901;accumsan&#8901;felis&#8901;ut&#8901;at&#8901;dolor&#8...\n            </div>\n        </td>\n        \n    </tr>\n    \n    <tr>\n        \n        <td style=\"border: 0px;\">\n            <div style=\" \" title=\"196\">196\n            </div>\n        </td>\n        \n        <td style=\"border: 0px;\">\n            <div style=\" color:#0000FF\" title=\"True\">True\n            </div>\n        </td>\n        \n        <td style=\"border: 0px;\">\n            <div style=\" \" title=\"Aquamarine\">Aquamarine\n            </div>\n        </td>\n        \n        <td style=\"border: 0px;\">\n            <div style=\" \" title=\"hdaniels5f@webeden.co.uk\">hdaniels5f@webeden.co.uk\n            </div>\n        </td>\n        \n        <td style=\"border: 0px;\">\n            <div style=\" \" title=\"Male\">Male\n            </div>\n        </td>\n        \n        <td style=\"border: 0px;\">\n            <div style=\" \" title=\"Daniels\">Daniels\n            </div>\n        </td>\n        \n        <td style=\"border: 0px;\">\n            <div style=\"color:#0000FF \" title=\"None\">None\n            </div>\n        </td>\n        \n        <td style=\"border: 0px;\">\n            <div style=\" \" title=\"nulla&#8901;justo&#8901;aliquam&#8901;quis&#8901;turpis&#8901;eget&#8901;elit&#8901;sodales&#8901;scelerisque&#8901;mauris\">nulla&#8901;justo&#8901;aliquam&#8901;quis&#8901;turpis&#8901;eget&#8901;elit&#8901;sodales&#8901;scelerisque&#8901;mauris\n            </div>\n        </td>\n        \n    </tr>\n    \n    <tr>\n        \n        <td style=\"border: 0px;\">\n            <div style=\" \" title=\"136\">136\n            </div>\n        </td>\n        \n        <td style=\"border: 0px;\">\n            <div style=\" \" title=\"False\">False\n            </div>\n        </td>\n        \n        <td style=\"border: 0px;\">\n            <div style=\" \" title=\"Mauv\">Mauv\n            </div>\n        </td>\n        \n        <td style=\"border: 0px;\">\n            <div style=\" \" title=\"fbracknell3r@lycos.com\">fbracknell3r@lycos.com\n            </div>\n        </td>\n        \n        <td style=\"border: 0px;\">\n            <div style=\" \" title=\"Female\">Female\n            </div>\n        </td>\n        \n        <td style=\"border: 0px;\">\n            <div style=\" \" title=\"Bracknell\">Bracknell\n            </div>\n        </td>\n        \n        <td style=\"border: 0px;\">\n            <div style=\"color:#0000FF \" title=\"None\">None\n            </div>\n        </td>\n        \n        <td style=\"border: 0px;\">\n            <div style=\" \" title=\"adipiscing&#8901;elit&#8901;proin&#8901;risus&#8901;praesent&#8901;lectus&#8901;vestibulum&#8901;quam&#8901;sapien&#8901;varius&#8901;ut&#8901;blandit&#8901;non&#8901;interdum&#8901;in&#8901;ante&#8901;vestibulum&#8901;ante&#8901;ipsum&#8901;primis\">adipiscing&#8901;elit&#8901;proin&#8901;risus&#8901;praesent&#8901;lectus&#8901;vestibulum&#8901;quam&#8901;sapien&#8901;vari...\n            </div>\n        </td>\n        \n    </tr>\n    \n    <tr>\n        \n        <td style=\"border: 0px;\">\n            <div style=\" \" title=\"990\">990\n            </div>\n        </td>\n        \n        <td style=\"border: 0px;\">\n            <div style=\" \" title=\"False\">False\n            </div>\n        </td>\n        \n        <td style=\"border: 0px;\">\n            <div style=\" \" title=\"Maroon\">Maroon\n            </div>\n        </td>\n        \n        <td style=\"border: 0px;\">\n            <div style=\" \" title=\"cmeneurrh@uiuc.edu\">cmeneurrh@uiuc.edu\n            </div>\n        </td>\n        \n        <td style=\"border: 0px;\">\n            <div style=\" \" title=\"Male\">Male\n            </div>\n        </td>\n        \n        <td style=\"border: 0px;\">\n            <div style=\" \" title=\"Meneur\">Meneur\n            </div>\n        </td>\n        \n        <td style=\"border: 0px;\">\n            <div style=\"color:#0000FF \" title=\"None\">None\n            </div>\n        </td>\n        \n        <td style=\"border: 0px;\">\n            <div style=\" \" title=\"vestibulum&#8901;proin&#8901;eu&#8901;mi&#8901;nulla&#8901;ac&#8901;enim&#8901;in&#8901;tempor&#8901;turpis&#8901;nec&#8901;euismod&#8901;scelerisque\">vestibulum&#8901;proin&#8901;eu&#8901;mi&#8901;nulla&#8901;ac&#8901;enim&#8901;in&#8901;tempor&#8901;turpis&#8901;nec&#8901;e...\n            </div>\n        </td>\n        \n    </tr>\n    \n    </tbody>\n</table>\n\n\n<div class=\"info_items\" style=\"margin: 10px 0; font-family: sans-serif; font-size: 10px;\">Viewing 10 of 10 rows / 8 columns</div>\n<div class=\"info_items\" style=\"margin: 10px 0; font-family: sans-serif; font-size: 10px;\">1 partition(s)</div>\n"
     },
     "metadata": {},
     "output_type": "display_data"
    }
   ],
   "source": [
    "db.table.show(\"optimus.main\", \"10\")\n"
   ],
   "metadata": {
    "collapsed": false,
    "pycharm": {
     "name": "#%%\n",
     "is_executing": false
    }
   }
  }
 ],
 "metadata": {
  "kernelspec": {
   "display_name": "Python 3",
   "language": "python",
   "name": "python3"
  },
  "language_info": {
   "codemirror_mode": {
    "name": "ipython",
    "version": 3
   },
   "file_extension": ".py",
   "mimetype": "text/x-python",
   "name": "python",
   "nbconvert_exporter": "python",
   "pygments_lexer": "ipython3",
   "version": "3.6.9"
  },
  "pycharm": {
   "stem_cell": {
    "cell_type": "raw",
    "source": [],
    "metadata": {
     "collapsed": false
    }
   }
  }
 },
 "nbformat": 4,
 "nbformat_minor": 2
}